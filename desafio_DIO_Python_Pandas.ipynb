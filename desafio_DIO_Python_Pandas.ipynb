{
  "nbformat": 4,
  "nbformat_minor": 0,
  "metadata": {
    "colab": {
      "name": "desafio_DIO_Python_Pandas.ipynb",
      "provenance": [],
      "mount_file_id": "1wwV3bWP9tNPxy3b_yWyPKLwcB0DLXrjc",
      "authorship_tag": "ABX9TyOEaGU2Cp2Kgle1T67FgB8+",
      "include_colab_link": true
    },
    "kernelspec": {
      "name": "python3",
      "display_name": "Python 3"
    },
    "language_info": {
      "name": "python"
    }
  },
  "cells": [
    {
      "cell_type": "markdown",
      "metadata": {
        "id": "view-in-github",
        "colab_type": "text"
      },
      "source": [
        "<a href=\"https://colab.research.google.com/github/felipedoamarals/DIO_Bootcamp_Engenharia_Dados_Carrefour/blob/main/desafio_DIO_Python_Pandas.ipynb\" target=\"_parent\"><img src=\"https://colab.research.google.com/assets/colab-badge.svg\" alt=\"Open In Colab\"/></a>"
      ]
    },
    {
      "cell_type": "markdown",
      "metadata": {
        "id": "omRHP2pdv4mQ"
      },
      "source": [
        "# Desafio DIO Python e Pandas\n",
        "Desafio referente ao Bootcamp de Engenharia de Dados Carrefour.\n",
        "Exploração de uma base de dados com produtos vendidos.\n",
        "\n",
        "Escopo do projeto:\n",
        "\n",
        "O cliente solicitou a criação de um Painel de Vendas. No qual trará as seguintes visualizações:\n",
        "\n",
        "- Valor total de venda por ano;\n",
        "- Valor total de venda por loja;\n",
        "- Tempo médio de entrega por loja;\n",
        "- Quantidade de vendas por produto;\n",
        "- Quantidade de vendas por loja;\n",
        "- Quantidade de venda por marca;\n",
        "- Lucro por Loja;\n",
        "- 5 maiores clientes por valor de venda.\n",
        "\n",
        "Os dados serão consumidos de uma planilha de excel extraída do sistema ERP do cliente e disponibilizada diariamente em uma pasta do google drive."
      ]
    },
    {
      "cell_type": "code",
      "metadata": {
        "id": "dqKazBPtt_dh"
      },
      "source": [
        "# Importando bibliotecas utilizadas\n",
        "import pandas as pd\n",
        "import matplotlib.pyplot as plt"
      ],
      "execution_count": null,
      "outputs": []
    },
    {
      "cell_type": "markdown",
      "metadata": {
        "id": "x_NHKYzny9cU"
      },
      "source": [
        "## Extração de dados"
      ]
    },
    {
      "cell_type": "code",
      "metadata": {
        "id": "cRvQrxF1y5SN"
      },
      "source": [
        "# Extraindo dados de uma planilha excel armazenada no Google Drive\n",
        "sourcefile = pd.read_excel(\"/content/drive/MyDrive/Colab Notebooks/Datasets/AdventureWorks.xlsx\")"
      ],
      "execution_count": null,
      "outputs": []
    },
    {
      "cell_type": "code",
      "metadata": {
        "colab": {
          "base_uri": "https://localhost:8080/",
          "height": 204
        },
        "id": "l7WeOX7W1t9Y",
        "outputId": "bbe5dcaa-1f8a-4956-9017-e93c75be9b6c"
      },
      "source": [
        "# Lendo as 5 primeiras linhas\n",
        "sourcefile.head()"
      ],
      "execution_count": null,
      "outputs": [
        {
          "output_type": "execute_result",
          "data": {
            "text/html": [
              "<div>\n",
              "<style scoped>\n",
              "    .dataframe tbody tr th:only-of-type {\n",
              "        vertical-align: middle;\n",
              "    }\n",
              "\n",
              "    .dataframe tbody tr th {\n",
              "        vertical-align: top;\n",
              "    }\n",
              "\n",
              "    .dataframe thead th {\n",
              "        text-align: right;\n",
              "    }\n",
              "</style>\n",
              "<table border=\"1\" class=\"dataframe\">\n",
              "  <thead>\n",
              "    <tr style=\"text-align: right;\">\n",
              "      <th></th>\n",
              "      <th>Data Venda</th>\n",
              "      <th>Data Envio</th>\n",
              "      <th>ID Loja</th>\n",
              "      <th>ID Produto</th>\n",
              "      <th>ID Cliente</th>\n",
              "      <th>No. Venda</th>\n",
              "      <th>Custo Unitário</th>\n",
              "      <th>Preço Unitário</th>\n",
              "      <th>Quantidade</th>\n",
              "      <th>Valor Desconto</th>\n",
              "      <th>Valor Venda</th>\n",
              "      <th>Produto</th>\n",
              "      <th>Fabricante</th>\n",
              "      <th>Marca</th>\n",
              "      <th>Classe</th>\n",
              "      <th>Cor</th>\n",
              "    </tr>\n",
              "  </thead>\n",
              "  <tbody>\n",
              "    <tr>\n",
              "      <th>0</th>\n",
              "      <td>2008-05-09</td>\n",
              "      <td>2008-05-29</td>\n",
              "      <td>199</td>\n",
              "      <td>384</td>\n",
              "      <td>18839</td>\n",
              "      <td>200805093CS607</td>\n",
              "      <td>348.58</td>\n",
              "      <td>758.0</td>\n",
              "      <td>6</td>\n",
              "      <td>0.0</td>\n",
              "      <td>4548.0</td>\n",
              "      <td>Adventure Works Laptop15.4W M1548 Red</td>\n",
              "      <td>Adventure Works</td>\n",
              "      <td>Adventure Works</td>\n",
              "      <td>Regular</td>\n",
              "      <td>Red</td>\n",
              "    </tr>\n",
              "    <tr>\n",
              "      <th>1</th>\n",
              "      <td>2008-05-12</td>\n",
              "      <td>2008-05-17</td>\n",
              "      <td>306</td>\n",
              "      <td>384</td>\n",
              "      <td>19051</td>\n",
              "      <td>200805123CS567</td>\n",
              "      <td>348.58</td>\n",
              "      <td>758.0</td>\n",
              "      <td>6</td>\n",
              "      <td>0.0</td>\n",
              "      <td>4548.0</td>\n",
              "      <td>Adventure Works Laptop15.4W M1548 Red</td>\n",
              "      <td>Adventure Works</td>\n",
              "      <td>Adventure Works</td>\n",
              "      <td>Regular</td>\n",
              "      <td>Red</td>\n",
              "    </tr>\n",
              "    <tr>\n",
              "      <th>2</th>\n",
              "      <td>2008-05-14</td>\n",
              "      <td>2008-05-20</td>\n",
              "      <td>306</td>\n",
              "      <td>384</td>\n",
              "      <td>19052</td>\n",
              "      <td>200805143CS576</td>\n",
              "      <td>348.58</td>\n",
              "      <td>758.0</td>\n",
              "      <td>6</td>\n",
              "      <td>0.0</td>\n",
              "      <td>4548.0</td>\n",
              "      <td>Adventure Works Laptop15.4W M1548 Red</td>\n",
              "      <td>Adventure Works</td>\n",
              "      <td>Adventure Works</td>\n",
              "      <td>Regular</td>\n",
              "      <td>Red</td>\n",
              "    </tr>\n",
              "    <tr>\n",
              "      <th>3</th>\n",
              "      <td>2008-05-21</td>\n",
              "      <td>2008-05-27</td>\n",
              "      <td>306</td>\n",
              "      <td>384</td>\n",
              "      <td>19052</td>\n",
              "      <td>200805213CS576</td>\n",
              "      <td>348.58</td>\n",
              "      <td>758.0</td>\n",
              "      <td>6</td>\n",
              "      <td>0.0</td>\n",
              "      <td>4548.0</td>\n",
              "      <td>Adventure Works Laptop15.4W M1548 Red</td>\n",
              "      <td>Adventure Works</td>\n",
              "      <td>Adventure Works</td>\n",
              "      <td>Regular</td>\n",
              "      <td>Red</td>\n",
              "    </tr>\n",
              "    <tr>\n",
              "      <th>4</th>\n",
              "      <td>2008-06-20</td>\n",
              "      <td>2008-06-27</td>\n",
              "      <td>306</td>\n",
              "      <td>384</td>\n",
              "      <td>19053</td>\n",
              "      <td>200806203CS586</td>\n",
              "      <td>348.58</td>\n",
              "      <td>758.0</td>\n",
              "      <td>6</td>\n",
              "      <td>0.0</td>\n",
              "      <td>4548.0</td>\n",
              "      <td>Adventure Works Laptop15.4W M1548 Red</td>\n",
              "      <td>Adventure Works</td>\n",
              "      <td>Adventure Works</td>\n",
              "      <td>Regular</td>\n",
              "      <td>Red</td>\n",
              "    </tr>\n",
              "  </tbody>\n",
              "</table>\n",
              "</div>"
            ],
            "text/plain": [
              "  Data Venda Data Envio  ID Loja  ...            Marca   Classe  Cor\n",
              "0 2008-05-09 2008-05-29      199  ...  Adventure Works  Regular  Red\n",
              "1 2008-05-12 2008-05-17      306  ...  Adventure Works  Regular  Red\n",
              "2 2008-05-14 2008-05-20      306  ...  Adventure Works  Regular  Red\n",
              "3 2008-05-21 2008-05-27      306  ...  Adventure Works  Regular  Red\n",
              "4 2008-06-20 2008-06-27      306  ...  Adventure Works  Regular  Red\n",
              "\n",
              "[5 rows x 16 columns]"
            ]
          },
          "metadata": {
            "tags": []
          },
          "execution_count": 87
        }
      ]
    },
    {
      "cell_type": "markdown",
      "metadata": {
        "id": "8K8imsl42k-Q"
      },
      "source": [
        "## Tratamento de dados"
      ]
    },
    {
      "cell_type": "code",
      "metadata": {
        "colab": {
          "base_uri": "https://localhost:8080/"
        },
        "id": "dI4ibA3Z3ZWA",
        "outputId": "3a74513c-d00a-4ced-b580-f362f414ba1a"
      },
      "source": [
        "# Verificando o datatype\n",
        "sourcefile.dtypes"
      ],
      "execution_count": null,
      "outputs": [
        {
          "output_type": "execute_result",
          "data": {
            "text/plain": [
              "Data Venda        datetime64[ns]\n",
              "Data Envio        datetime64[ns]\n",
              "ID Loja                    int64\n",
              "ID Produto                 int64\n",
              "ID Cliente                 int64\n",
              "No. Venda                 object\n",
              "Custo Unitário           float64\n",
              "Preço Unitário           float64\n",
              "Quantidade                 int64\n",
              "Valor Desconto           float64\n",
              "Valor Venda              float64\n",
              "Produto                   object\n",
              "Fabricante                object\n",
              "Marca                     object\n",
              "Classe                    object\n",
              "Cor                       object\n",
              "dtype: object"
            ]
          },
          "metadata": {
            "tags": []
          },
          "execution_count": 88
        }
      ]
    },
    {
      "cell_type": "code",
      "metadata": {
        "colab": {
          "base_uri": "https://localhost:8080/"
        },
        "id": "-518KzI_39cJ",
        "outputId": "7fb9f093-da64-4940-e4ea-a1c553443784"
      },
      "source": [
        "# Verificando se temos valores nulos no dataset\n",
        "sourcefile.isnull().sum()"
      ],
      "execution_count": null,
      "outputs": [
        {
          "output_type": "execute_result",
          "data": {
            "text/plain": [
              "Data Venda        0\n",
              "Data Envio        0\n",
              "ID Loja           0\n",
              "ID Produto        0\n",
              "ID Cliente        0\n",
              "No. Venda         0\n",
              "Custo Unitário    0\n",
              "Preço Unitário    0\n",
              "Quantidade        0\n",
              "Valor Desconto    0\n",
              "Valor Venda       0\n",
              "Produto           0\n",
              "Fabricante        0\n",
              "Marca             0\n",
              "Classe            0\n",
              "Cor               0\n",
              "dtype: int64"
            ]
          },
          "metadata": {
            "tags": []
          },
          "execution_count": 89
        }
      ]
    },
    {
      "cell_type": "code",
      "metadata": {
        "id": "pUQJ7kMQ2goj"
      },
      "source": [
        "# Criando um dataset sem a coluna Fabricante\n",
        "vendasdt01 = sourcefile.drop(columns=['Fabricante'])"
      ],
      "execution_count": null,
      "outputs": []
    },
    {
      "cell_type": "code",
      "metadata": {
        "id": "TVsQFUTGRRQa"
      },
      "source": [
        "# Criando uma coluna com o custo total da Venda\n",
        "vendasdt01['Custo Total da Venda'] = vendasdt01['Custo Unitário'].mul(vendasdt01['Quantidade'])"
      ],
      "execution_count": null,
      "outputs": []
    },
    {
      "cell_type": "code",
      "metadata": {
        "id": "dziv7A6gQgzb"
      },
      "source": [
        "# Criando uma coluna com Lucro de venda\n",
        "vendasdt01['Lucro da Venda'] = (vendasdt01['Valor Venda'] - vendasdt01['Custo Total da Venda'])"
      ],
      "execution_count": null,
      "outputs": []
    },
    {
      "cell_type": "code",
      "metadata": {
        "id": "I-ezLf3tPB46"
      },
      "source": [
        "# Criando uma coluna com o tempo de entrega\n",
        "vendasdt01['Tempo de Entrega'] = vendasdt01['Data Envio'] - vendasdt01['Data Venda']"
      ],
      "execution_count": null,
      "outputs": []
    },
    {
      "cell_type": "code",
      "metadata": {
        "id": "ZNCaw2A0qDS7"
      },
      "source": [
        "# Utilizando replace para alterar nome das Lojas\n",
        "vendasdt01[\"ID Loja\"].replace({199: \"Filial 01\", 306: \"Filial 02\", 307: \"Matriz\"}, inplace=True)"
      ],
      "execution_count": null,
      "outputs": []
    },
    {
      "cell_type": "code",
      "metadata": {
        "id": "U51ITPTWral4"
      },
      "source": [
        "# Alterando nome da Coluna ID Loja para Loja e atribuindo dataframe já tratado\n",
        "vendas = vendasdt01.rename(columns={'ID Loja': \"Loja\"})"
      ],
      "execution_count": null,
      "outputs": []
    },
    {
      "cell_type": "code",
      "metadata": {
        "colab": {
          "base_uri": "https://localhost:8080/"
        },
        "id": "emRcmqc-o1ae",
        "outputId": "495f064f-78ce-4e7e-c12d-daea4135afe2"
      },
      "source": [
        "vendas.dtypes"
      ],
      "execution_count": null,
      "outputs": [
        {
          "output_type": "execute_result",
          "data": {
            "text/plain": [
              "Data Venda               datetime64[ns]\n",
              "Data Envio               datetime64[ns]\n",
              "Loja                             object\n",
              "ID Produto                        int64\n",
              "ID Cliente                        int64\n",
              "No. Venda                        object\n",
              "Custo Unitário                  float64\n",
              "Preço Unitário                  float64\n",
              "Quantidade                        int64\n",
              "Valor Desconto                  float64\n",
              "Valor Venda                     float64\n",
              "Produto                          object\n",
              "Marca                            object\n",
              "Classe                           object\n",
              "Cor                              object\n",
              "Custo Total da Venda            float64\n",
              "Lucro da Venda                  float64\n",
              "Tempo de Entrega        timedelta64[ns]\n",
              "dtype: object"
            ]
          },
          "metadata": {
            "tags": []
          },
          "execution_count": 145
        }
      ]
    },
    {
      "cell_type": "code",
      "metadata": {
        "colab": {
          "base_uri": "https://localhost:8080/",
          "height": 142
        },
        "id": "9XwGpzrw7Afw",
        "outputId": "bca05f21-c34d-40ee-f73a-6aee984ab7d4"
      },
      "source": [
        "vendas.sample(3)"
      ],
      "execution_count": null,
      "outputs": [
        {
          "output_type": "execute_result",
          "data": {
            "text/html": [
              "<div>\n",
              "<style scoped>\n",
              "    .dataframe tbody tr th:only-of-type {\n",
              "        vertical-align: middle;\n",
              "    }\n",
              "\n",
              "    .dataframe tbody tr th {\n",
              "        vertical-align: top;\n",
              "    }\n",
              "\n",
              "    .dataframe thead th {\n",
              "        text-align: right;\n",
              "    }\n",
              "</style>\n",
              "<table border=\"1\" class=\"dataframe\">\n",
              "  <thead>\n",
              "    <tr style=\"text-align: right;\">\n",
              "      <th></th>\n",
              "      <th>Data Venda</th>\n",
              "      <th>Data Envio</th>\n",
              "      <th>Loja</th>\n",
              "      <th>ID Produto</th>\n",
              "      <th>ID Cliente</th>\n",
              "      <th>No. Venda</th>\n",
              "      <th>Custo Unitário</th>\n",
              "      <th>Preço Unitário</th>\n",
              "      <th>Quantidade</th>\n",
              "      <th>Valor Desconto</th>\n",
              "      <th>Valor Venda</th>\n",
              "      <th>Produto</th>\n",
              "      <th>Marca</th>\n",
              "      <th>Classe</th>\n",
              "      <th>Cor</th>\n",
              "      <th>Custo Total da Venda</th>\n",
              "      <th>Lucro da Venda</th>\n",
              "      <th>Tempo de Entrega</th>\n",
              "    </tr>\n",
              "  </thead>\n",
              "  <tbody>\n",
              "    <tr>\n",
              "      <th>762</th>\n",
              "      <td>2008-12-03</td>\n",
              "      <td>2008-12-10</td>\n",
              "      <td>Filial 01</td>\n",
              "      <td>2497</td>\n",
              "      <td>18893</td>\n",
              "      <td>200812035CS800</td>\n",
              "      <td>5.09</td>\n",
              "      <td>9.99</td>\n",
              "      <td>156</td>\n",
              "      <td>311.69</td>\n",
              "      <td>1,246.75</td>\n",
              "      <td>Headphone Adapter for Contoso Phone E130 White</td>\n",
              "      <td>Contoso</td>\n",
              "      <td>Economy</td>\n",
              "      <td>White</td>\n",
              "      <td>794.04</td>\n",
              "      <td>452.71</td>\n",
              "      <td>7 days</td>\n",
              "    </tr>\n",
              "    <tr>\n",
              "      <th>851</th>\n",
              "      <td>2009-01-13</td>\n",
              "      <td>2009-01-18</td>\n",
              "      <td>Filial 02</td>\n",
              "      <td>1203</td>\n",
              "      <td>19061</td>\n",
              "      <td>200901134CS736</td>\n",
              "      <td>324.69</td>\n",
              "      <td>980.00</td>\n",
              "      <td>6</td>\n",
              "      <td>1,176.00</td>\n",
              "      <td>4,704.00</td>\n",
              "      <td>Fabrikam Trendsetter 2/3'' 17mm X100 Grey</td>\n",
              "      <td>Fabrikam</td>\n",
              "      <td>Regular</td>\n",
              "      <td>Grey</td>\n",
              "      <td>1,948.14</td>\n",
              "      <td>2,755.86</td>\n",
              "      <td>5 days</td>\n",
              "    </tr>\n",
              "    <tr>\n",
              "      <th>419</th>\n",
              "      <td>2008-12-25</td>\n",
              "      <td>2008-12-30</td>\n",
              "      <td>Matriz</td>\n",
              "      <td>1178</td>\n",
              "      <td>19111</td>\n",
              "      <td>200812254CS669</td>\n",
              "      <td>330.66</td>\n",
              "      <td>998.00</td>\n",
              "      <td>7</td>\n",
              "      <td>1,047.90</td>\n",
              "      <td>5,938.10</td>\n",
              "      <td>Fabrikam Trendsetter 1/3'' 8.5mm X200 White</td>\n",
              "      <td>Fabrikam</td>\n",
              "      <td>Regular</td>\n",
              "      <td>White</td>\n",
              "      <td>2,314.62</td>\n",
              "      <td>3,623.48</td>\n",
              "      <td>5 days</td>\n",
              "    </tr>\n",
              "  </tbody>\n",
              "</table>\n",
              "</div>"
            ],
            "text/plain": [
              "    Data Venda Data Envio  ...       Lucro da Venda  Tempo de Entrega\n",
              "762 2008-12-03 2008-12-10  ...               452.71            7 days\n",
              "851 2009-01-13 2009-01-18  ...             2,755.86            5 days\n",
              "419 2008-12-25 2008-12-30  ...             3,623.48            5 days\n",
              "\n",
              "[3 rows x 18 columns]"
            ]
          },
          "metadata": {
            "tags": []
          },
          "execution_count": 146
        }
      ]
    },
    {
      "cell_type": "markdown",
      "metadata": {
        "id": "CbY_a9J2O5YT"
      },
      "source": [
        "## Visualização de dados"
      ]
    },
    {
      "cell_type": "code",
      "metadata": {
        "id": "yxJynTALXlLs"
      },
      "source": [
        "# Criando um estilo padrão de gráficos\n",
        "plt.style.use(\"seaborn\")"
      ],
      "execution_count": null,
      "outputs": []
    },
    {
      "cell_type": "markdown",
      "metadata": {
        "id": "0BODdBpoeAdG"
      },
      "source": [
        "#### Valor total de vendas por ano"
      ]
    },
    {
      "cell_type": "code",
      "metadata": {
        "colab": {
          "base_uri": "https://localhost:8080/",
          "height": 405
        },
        "id": "biQsBNwBf9v5",
        "outputId": "b0e3ce26-db1f-4aff-d577-b878ab91896c"
      },
      "source": [
        "# Configurando o formato float\n",
        "pd.options.display.float_format = '{:20,.2f}'.format\n",
        "\n",
        "# Realizando o Cálculo e exibindo em gráfico\n",
        "vlVendasAno = vendas.groupby([vendas[\"Data Venda\"].dt.year])['Valor Venda'].sum()\n",
        "vlVendasAno.plot.bar(title=\"Vendas x Ano\")\n",
        "plt.xlabel(\"Ano\")\n",
        "plt.ylabel(\"Venda - mi\")"
      ],
      "execution_count": null,
      "outputs": [
        {
          "output_type": "execute_result",
          "data": {
            "text/plain": [
              "Text(0, 0.5, 'Venda - mi')"
            ]
          },
          "metadata": {
            "tags": []
          },
          "execution_count": 188
        },
        {
          "output_type": "display_data",
          "data": {
            "image/png": "[encoded data removed]",
            "text/plain": [
              "<Figure size 576x396 with 1 Axes>"
            ]
          },
          "metadata": {
            "tags": []
          }
        }
      ]
    },
    {
      "cell_type": "markdown",
      "metadata": {
        "id": "FdIe237qongP"
      },
      "source": [
        "#### Valor total de vendas por Loja"
      ]
    },
    {
      "cell_type": "code",
      "metadata": {
        "colab": {
          "base_uri": "https://localhost:8080/",
          "height": 418
        },
        "id": "27TkuJYCof7q",
        "outputId": "5514284e-ef9d-46a7-f15d-59b3618c1edd"
      },
      "source": [
        "# Realizando o Cálculo e exibindo em gráfico\n",
        "vlVendasLoja = vendas.groupby(vendas[\"Loja\"])['Valor Venda'].sum()\n",
        "vlVendasLoja.plot.bar(title=\"Vendas x Loja\")\n",
        "plt.xlabel(\"Loja\")\n",
        "plt.ylabel(\"Venda - mi\")"
      ],
      "execution_count": null,
      "outputs": [
        {
          "output_type": "execute_result",
          "data": {
            "text/plain": [
              "Text(0, 0.5, 'Venda - mi')"
            ]
          },
          "metadata": {
            "tags": []
          },
          "execution_count": 187
        },
        {
          "output_type": "display_data",
          "data": {
            "image/png": "[encoded data removed]",
            "text/plain": [
              "<Figure size 576x396 with 1 Axes>"
            ]
          },
          "metadata": {
            "tags": []
          }
        }
      ]
    },
    {
      "cell_type": "markdown",
      "metadata": {
        "id": "yVk2pcAyy9kz"
      },
      "source": [
        "#### Tempo médio de entrega por loja"
      ]
    },
    {
      "cell_type": "code",
      "metadata": {
        "colab": {
          "base_uri": "https://localhost:8080/",
          "height": 418
        },
        "id": "s0ioSS9Dy-jp",
        "outputId": "33b742a9-04fc-4c29-f2cb-d800d768933b"
      },
      "source": [
        "# Realizando o Cálculo e exibindo em gráfico\n",
        "# Extraindo apenas o dia da coluna Tempo de Entrega\n",
        "vendas['Tempo de Entrega'] = (vendasdt01['Data Envio'] - vendasdt01['Data Venda']).dt.days\n",
        "tpMedioEntrega = vendas.groupby(vendas[\"Loja\"])['Tempo de Entrega'].mean()\n",
        "tpMedioEntrega.plot.bar(title=\"Tempo médio de entrega x Loja\")\n",
        "plt.xlabel(\"Loja\")\n",
        "plt.ylabel(\"Tempo médio de entrega - Dias\")"
      ],
      "execution_count": null,
      "outputs": [
        {
          "output_type": "execute_result",
          "data": {
            "text/plain": [
              "Text(0, 0.5, 'Tempo médio de entrega - Dias')"
            ]
          },
          "metadata": {
            "tags": []
          },
          "execution_count": 176
        },
        {
          "output_type": "display_data",
          "data": {
            "image/png": "[encoded data removed]",
            "text/plain": [
              "<Figure size 576x396 with 1 Axes>"
            ]
          },
          "metadata": {
            "tags": []
          }
        }
      ]
    },
    {
      "cell_type": "markdown",
      "metadata": {
        "id": "ZTdO1atB0ye4"
      },
      "source": [
        "Quantidade de vendas por produto\n"
      ]
    },
    {
      "cell_type": "code",
      "metadata": {
        "colab": {
          "base_uri": "https://localhost:8080/",
          "height": 393
        },
        "id": "N7KdBvXI0zLd",
        "outputId": "15291be7-5914-4888-9720-1d38584d881a"
      },
      "source": [
        "qtVendasProduto = vendas.groupby(vendas[\"Produto\"])['Quantidade'].sum()\n",
        "qtVendasProduto.plot.barh(title=\"Quantidade de vendas por produto\")\n",
        "plt.xlabel(\"Quantidade\")\n",
        "plt.ylabel(\"Produto\")"
      ],
      "execution_count": null,
      "outputs": [
        {
          "output_type": "execute_result",
          "data": {
            "text/plain": [
              "Text(0, 0.5, 'Produto')"
            ]
          },
          "metadata": {
            "tags": []
          },
          "execution_count": 179
        },
        {
          "output_type": "display_data",
          "data": {
            "image/png": "[encoded data removed]",
            "text/plain": [
              "<Figure size 576x396 with 1 Axes>"
            ]
          },
          "metadata": {
            "tags": []
          }
        }
      ]
    },
    {
      "cell_type": "markdown",
      "metadata": {
        "id": "wU4s08hD1tYD"
      },
      "source": [
        "### Quantidade de vendas por loja"
      ]
    },
    {
      "cell_type": "code",
      "metadata": {
        "colab": {
          "base_uri": "https://localhost:8080/",
          "height": 393
        },
        "id": "LY4ptE62129_",
        "outputId": "727f1c08-eca0-49b2-b32b-935f90543c41"
      },
      "source": [
        "qtVendasLoja = vendas.groupby(vendas[\"Loja\"])['Quantidade'].sum().sort_values()\n",
        "qtVendasLoja.plot.barh(title=\"Quantidade de vendas por Loja\")\n",
        "plt.xlabel(\"Quantidade\")\n",
        "plt.ylabel(\"Loja\")"
      ],
      "execution_count": null,
      "outputs": [
        {
          "output_type": "execute_result",
          "data": {
            "text/plain": [
              "Text(0, 0.5, 'Loja')"
            ]
          },
          "metadata": {
            "tags": []
          },
          "execution_count": 182
        },
        {
          "output_type": "display_data",
          "data": {
            "image/png": "[encoded data removed]",
            "text/plain": [
              "<Figure size 576x396 with 1 Axes>"
            ]
          },
          "metadata": {
            "tags": []
          }
        }
      ]
    },
    {
      "cell_type": "markdown",
      "metadata": {
        "id": "3-qaCUf82hgF"
      },
      "source": [
        "### Quantidade de vendas por marca"
      ]
    },
    {
      "cell_type": "code",
      "metadata": {
        "colab": {
          "base_uri": "https://localhost:8080/",
          "height": 393
        },
        "id": "bSqkp0Hi2j2H",
        "outputId": "3e001b45-148a-43e0-8a1c-49c79e732652"
      },
      "source": [
        "qtVendasMarca = vendas.groupby(vendas[\"Marca\"])['Quantidade'].sum().sort_values()\n",
        "qtVendasMarca.plot.barh(title=\"Quantidade de vendas por Marca\")\n",
        "plt.xlabel(\"Quantidade\")\n",
        "plt.ylabel(\"Marca\")"
      ],
      "execution_count": null,
      "outputs": [
        {
          "output_type": "execute_result",
          "data": {
            "text/plain": [
              "Text(0, 0.5, 'Marca')"
            ]
          },
          "metadata": {
            "tags": []
          },
          "execution_count": 183
        },
        {
          "output_type": "display_data",
          "data": {
            "image/png": "[encoded data removed]",
            "text/plain": [
              "<Figure size 576x396 with 1 Axes>"
            ]
          },
          "metadata": {
            "tags": []
          }
        }
      ]
    },
    {
      "cell_type": "markdown",
      "metadata": {
        "id": "B_H4HjZs250A"
      },
      "source": [
        "### Lucro por Loja"
      ]
    },
    {
      "cell_type": "code",
      "metadata": {
        "colab": {
          "base_uri": "https://localhost:8080/",
          "height": 393
        },
        "id": "g7mXib7d27xJ",
        "outputId": "0ca77acd-80e0-4660-e712-a2c3026c4c21"
      },
      "source": [
        "lucroLoja = vendas.groupby(vendas[\"Loja\"])['Lucro da Venda'].sum().sort_values()\n",
        "lucroLoja.plot.barh(title=\"Lucro por Loja\")\n",
        "plt.xlabel(\"Lucro - mi\")\n",
        "plt.ylabel(\"Loja\")"
      ],
      "execution_count": null,
      "outputs": [
        {
          "output_type": "execute_result",
          "data": {
            "text/plain": [
              "Text(0, 0.5, 'Loja')"
            ]
          },
          "metadata": {
            "tags": []
          },
          "execution_count": 189
        },
        {
          "output_type": "display_data",
          "data": {
            "image/png": "[encoded data removed]",
            "text/plain": [
              "<Figure size 576x396 with 1 Axes>"
            ]
          },
          "metadata": {
            "tags": []
          }
        }
      ]
    },
    {
      "cell_type": "markdown",
      "metadata": {
        "id": "gPEq8kvj3uzO"
      },
      "source": [
        "### 5 maiores clientes por venda"
      ]
    },
    {
      "cell_type": "code",
      "metadata": {
        "colab": {
          "base_uri": "https://localhost:8080/",
          "height": 393
        },
        "id": "KmMNZ0Q433UI",
        "outputId": "4d7b4a1f-7779-49b9-f8a2-111e5b7cddb1"
      },
      "source": [
        "maioresClientes = vendas.groupby(vendas[\"ID Cliente\"])['Valor Venda'].sum().sort_values().head(5)\n",
        "maioresClientes.plot.barh(title=\"Maiores clientes x venda\")\n",
        "plt.xlabel(\"Lucro - mi\")\n",
        "plt.ylabel(\"Cliente\")"
      ],
      "execution_count": null,
      "outputs": [
        {
          "output_type": "execute_result",
          "data": {
            "text/plain": [
              "Text(0, 0.5, 'Cliente')"
            ]
          },
          "metadata": {
            "tags": []
          },
          "execution_count": 196
        },
        {
          "output_type": "display_data",
          "data": {
            "image/png": "[encoded data removed]",
            "text/plain": [
              "<Figure size 576x396 with 1 Axes>"
            ]
          },
          "metadata": {
            "tags": []
          }
        }
      ]
    }
  ]
}